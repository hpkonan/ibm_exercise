{
 "cells": [
  {
   "cell_type": "markdown",
   "id": "850cc87c-bd2e-41d9-b8fd-a7a519a984b3",
   "metadata": {},
   "source": [
    "# Data Science Tools and Ecosystem"
   ]
  },
  {
   "cell_type": "markdown",
   "id": "9754370d-907f-4b5e-83ed-9e7f3eeec3a1",
   "metadata": {},
   "source": [
    "In this notebook, Data Science Tools and Ecosystem are summarized."
   ]
  },
  {
   "cell_type": "markdown",
   "id": "f77490e9-3678-442e-a8dd-afc93bce25df",
   "metadata": {},
   "source": [
    "Some of the most popular languages that Data Scientists use are:\n",
    "* Python\n",
    "* R\n",
    "* SQL"
   ]
  },
  {
   "cell_type": "markdown",
   "id": "ab779670-1c0e-416c-bf81-29dea25f8169",
   "metadata": {},
   "source": [
    "Some of the commonly used librairies used by Data Scientists includes:\n",
    "* Pandas\n",
    "* Matplotlib\n",
    "* Seaborn\n",
    "* NumPy\n",
    "* Scikitlearn"
   ]
  },
  {
   "cell_type": "markdown",
   "id": "2eee21d5-f53e-4eb9-bd88-fb0f232ae4bb",
   "metadata": {},
   "source": [
    "|Data Science Tools|\n",
    "|------------------|\n",
    "|VSCODE|\n",
    "|JupyterLab|\n",
    "|Pycharm|"
   ]
  },
  {
   "cell_type": "markdown",
   "id": "a7ef3a1a-2bd7-4073-abbe-f392b1583983",
   "metadata": {},
   "source": [
    "### Below are a few examples of evaluating arithmetic expressions in Python"
   ]
  },
  {
   "cell_type": "code",
   "execution_count": 1,
   "id": "79714ce4-f523-467a-9644-72d386671adb",
   "metadata": {},
   "outputs": [
    {
     "name": "stdout",
     "output_type": "stream",
     "text": [
      "17\n"
     ]
    }
   ],
   "source": [
    "#This is a simple arithmetic expression to multiply then add integers\n",
    "op = (3*4) + 5\n",
    "print (op)"
   ]
  },
  {
   "cell_type": "code",
   "execution_count": 4,
   "id": "59950125-ed55-4fbf-8768-d68bb07c0ad8",
   "metadata": {},
   "outputs": [
    {
     "name": "stdout",
     "output_type": "stream",
     "text": [
      "3.33\n"
     ]
    }
   ],
   "source": [
    "#This will convert 200 minutes to hours by dividing by 60\n",
    "minutes = 200\n",
    "x = minutes/60\n",
    "print(round(x, 2))"
   ]
  },
  {
   "cell_type": "markdown",
   "id": "063d3a6d-6935-45b3-bde9-caacad3b5ce3",
   "metadata": {},
   "source": [
    "## Author\n",
    "Henri-Philippe Konan"
   ]
  },
  {
   "cell_type": "code",
   "execution_count": null,
   "id": "2c7f4c11-f615-4248-8cef-83169f8a245a",
   "metadata": {},
   "outputs": [],
   "source": []
  }
 ],
 "metadata": {
  "kernelspec": {
   "display_name": "Python 3 (ipykernel)",
   "language": "python",
   "name": "python3"
  },
  "language_info": {
   "codemirror_mode": {
    "name": "ipython",
    "version": 3
   },
   "file_extension": ".py",
   "mimetype": "text/x-python",
   "name": "python",
   "nbconvert_exporter": "python",
   "pygments_lexer": "ipython3",
   "version": "3.12.7"
  }
 },
 "nbformat": 4,
 "nbformat_minor": 5
}
